{
 "cells": [
  {
   "cell_type": "code",
   "execution_count": 1,
   "metadata": {},
   "outputs": [],
   "source": [
    "# Basics of Langchain \n",
    "\n",
    "config = '.env.esri'\n",
    "from dotenv import load_dotenv\n",
    "load_dotenv(config)\n",
    "import os\n",
    "from langchain_openai import AzureChatOpenAI\n",
    "from langchain.memory import ConversationBufferMemory\n",
    "from langchain.chains import RetrievalQAWithSourcesChain\n",
    "from langchain_core.output_parsers import StrOutputParser\n",
    "from langchain_core.runnables import RunnablePassthrough\n",
    "from langchain.prompts import ChatPromptTemplate\n",
    "\n",
    "\n",
    "system_prompt_template = \"\"\"You are chatting with an AI assistant. The assistant is here to help you with any questions you have.\n",
    "\n",
    "- Assume every request is about the location: {location}\n",
    "\n",
    "Context:\n",
    "{context}\n",
    "\n",
    "History: \n",
    "{chat_history}\n",
    "\n",
    "User Request: {request}\n",
    "\n",
    "\"\"\"\n",
    "\n",
    "llm = AzureChatOpenAI(\n",
    "    temperature=0.9,\n",
    "    model_name=os.environ[\"OPENAI_MODEL_NAME\"], #'text-davinci-003'\n",
    "    openai_api_version=os.environ[\"OPENAI_API_VERSION\"],\n",
    "    azure_endpoint=os.environ[\"AZURE_OPENAI_ENDPOINT\"],\n",
    "    openai_api_key=os.environ[\"AZURE_OPENAI_API_KEY\"],\n",
    "    deployment_name=os.environ[\"OPENAI_DEPLOYMENT_NAME\"]\n",
    ")\n",
    "\n",
    "memory = ConversationBufferMemory(\n",
    "    memory_key=\"chat_history\", return_messages=True)\n",
    "# memory.load_memory_variables(history)\n",
    "\n",
    "\n",
    "prompt = ChatPromptTemplate.from_template(system_prompt_template)\n",
    "\n",
    "chat_agent = (\n",
    "    {\n",
    "        \"request\": RunnablePassthrough(),\n",
    "        \"context\": RunnablePassthrough(),\n",
    "        \"chat_history\": RunnablePassthrough(),\n",
    "        \"location\": RunnablePassthrough()\n",
    "    }\n",
    "    | prompt\n",
    "    | llm\n",
    "    | StrOutputParser()\n",
    ")\n"
   ]
  },
  {
   "cell_type": "code",
   "execution_count": 2,
   "metadata": {},
   "outputs": [
    {
     "data": {
      "text/plain": [
       "'You, my dear, are in the enchanting city of Seattle,\\nWhere the emerald waters meet the sky so gentle.\\nA place of beauty and charm, where tales unfold,\\nIn iambic pentameter, your stories will be told.'"
      ]
     },
     "execution_count": 2,
     "metadata": {},
     "output_type": "execute_result"
    }
   ],
   "source": [
    "chat_agent.invoke({\n",
    "    \"request\": \"What city am I in?\", \n",
    "    \"context\": \"You are an elegant story teller who speaks in iambic pentameter\",\n",
    "    \"location\": \"Seattle, WA\",\n",
    "    \"chat_history\": []\n",
    "})"
   ]
  },
  {
   "cell_type": "code",
   "execution_count": 5,
   "metadata": {},
   "outputs": [],
   "source": [
    "# Now let's use some tools to add some functionality to the agent\n",
    "\n",
    "from langchain.agents import create_openai_functions_agent, AgentExecutor\n",
    "from langchain.prompts import ChatPromptTemplate, SystemMessagePromptTemplate, MessagesPlaceholder\n",
    "from tools.geocode import geocodeLocation\n",
    "from langchain.tools import StructuredTool\n",
    "\n",
    "prompt = ChatPromptTemplate.from_messages(\n",
    "    [\n",
    "        SystemMessagePromptTemplate.from_template(system_prompt_template),\n",
    "        MessagesPlaceholder(\"chat_history\", optional=True),\n",
    "        (\"human\", \"{request}\"),\n",
    "        MessagesPlaceholder(\"agent_scratchpad\"),\n",
    "    ]\n",
    ")\n",
    "\n",
    "tools = [\n",
    "    StructuredTool.from_function(geocodeLocation)\n",
    "]\n",
    "agent = create_openai_functions_agent(llm, tools, prompt)\n",
    "\n",
    "data_agent = AgentExecutor(\n",
    "    agent=agent, \n",
    "    tools=tools, \n",
    "    verbose=True,\n",
    "    callbacks=[]\n",
    ")\n"
   ]
  },
  {
   "cell_type": "code",
   "execution_count": 13,
   "metadata": {},
   "outputs": [
    {
     "name": "stdout",
     "output_type": "stream",
     "text": [
      "\n",
      "\n",
      "\u001b[1m> Entering new AgentExecutor chain...\u001b[0m\n",
      "\u001b[32;1m\u001b[1;3m\n",
      "Invoking: `geocodeLocation` with `{'address': 'Seattle City Hall, Seattle, WA'}`\n",
      "\n",
      "\n",
      "\u001b[0m\u001b[36;1m\u001b[1;3m(-122.33048, 47.60351)\u001b[0m\u001b[32;1m\u001b[1;3mThe Seattle City Hall is located at the geographic coordinates:\n",
      "- Longitude: -122.33048\n",
      "- Latitude: 47.60351\u001b[0m\n",
      "\n",
      "\u001b[1m> Finished chain.\u001b[0m\n"
     ]
    },
    {
     "data": {
      "text/plain": [
       "{'request': 'where is city hall?',\n",
       " 'context': '',\n",
       " 'location': 'Seattle, WA',\n",
       " 'chat_history': [],\n",
       " 'output': 'The Seattle City Hall is located at the geographic coordinates:\\n- Longitude: -122.33048\\n- Latitude: 47.60351'}"
      ]
     },
     "execution_count": 13,
     "metadata": {},
     "output_type": "execute_result"
    }
   ],
   "source": [
    "data_agent.invoke({\n",
    "    \"request\": \"where is city hall?\", \n",
    "    \"context\": \"\",\n",
    "    \"location\": \"Seattle, WA\",\n",
    "    \"chat_history\": []\n",
    "})"
   ]
  },
  {
   "cell_type": "code",
   "execution_count": 14,
   "metadata": {},
   "outputs": [
    {
     "name": "stdout",
     "output_type": "stream",
     "text": [
      "\n",
      "\n",
      "\u001b[1m> Entering new AgentExecutor chain...\u001b[0m\n",
      "\u001b[32;1m\u001b[1;3m\n",
      "Invoking: `geocodeLocation` with `{'address': 'Seattle City Hall, Seattle, WA'}`\n",
      "\n",
      "\n",
      "\u001b[0m\u001b[36;1m\u001b[1;3m(-122.33048, 47.60351)\u001b[0m\u001b[32;1m\u001b[1;3m```json\n",
      "{\n",
      "  \"location\": {\n",
      "    \"latitude\": 47.60351,\n",
      "    \"longitude\": -122.33048\n",
      "  }\n",
      "}\n",
      "```\u001b[0m\n",
      "\n",
      "\u001b[1m> Finished chain.\u001b[0m\n"
     ]
    },
    {
     "data": {
      "text/plain": [
       "{'request': 'where is city hall?',\n",
       " 'context': 'Provide your response in JSON',\n",
       " 'location': 'Seattle, WA',\n",
       " 'chat_history': [],\n",
       " 'output': '```json\\n{\\n  \"location\": {\\n    \"latitude\": 47.60351,\\n    \"longitude\": -122.33048\\n  }\\n}\\n```'}"
      ]
     },
     "execution_count": 14,
     "metadata": {},
     "output_type": "execute_result"
    }
   ],
   "source": [
    "data_agent.invoke({\n",
    "    \"request\": \"where is city hall?\", \n",
    "    \"context\": \"Provide your response in JSON\",\n",
    "    \"location\": \"Seattle, WA\",\n",
    "    \"chat_history\": []\n",
    "})"
   ]
  },
  {
   "cell_type": "code",
   "execution_count": 11,
   "metadata": {},
   "outputs": [
    {
     "name": "stdout",
     "output_type": "stream",
     "text": [
      "\n",
      "\n",
      "\u001b[1m> Entering new AgentExecutor chain...\u001b[0m\n",
      "\u001b[32;1m\u001b[1;3m\n",
      "Invoking: `geocodeLocation` with `{'address': 'City Hall, Seattle, WA'}`\n",
      "\n",
      "\n",
      "\u001b[0m\u001b[36;1m\u001b[1;3m(-122.3396, 47.46688)\u001b[0m\u001b[32;1m\u001b[1;3mThe geographic coordinates for City Hall in Seattle, WA are:\n",
      "- Longitude: -122.3396\n",
      "- Latitude: 47.46688\n",
      "\n",
      "To display this location on an ArcGIS Map using Javascript, you can use the following code:\n",
      "\n",
      "```javascript\n",
      "require([\n",
      "  \"esri/Map\",\n",
      "  \"esri/views/MapView\",\n",
      "  \"esri/geometry/Point\",\n",
      "  \"esri/symbols/SimpleMarkerSymbol\",\n",
      "  \"esri/Graphic\",\n",
      "  \"dojo/domReady!\"\n",
      "], function(Map, MapView, Point, SimpleMarkerSymbol, Graphic) {\n",
      "\n",
      "  var map = new Map({\n",
      "    basemap: \"streets-navigation-vector\"\n",
      "  });\n",
      "\n",
      "  var view = new MapView({\n",
      "    container: \"viewDiv\",\n",
      "    map: map,\n",
      "    center: [-122.3396, 47.46688],\n",
      "    zoom: 15\n",
      "  });\n",
      "\n",
      "  var point = new Point({\n",
      "    longitude: -122.3396,\n",
      "    latitude: 47.46688\n",
      "  });\n",
      "\n",
      "  var markerSymbol = new SimpleMarkerSymbol({\n",
      "    color: [226, 119, 40],\n",
      "    outline: {\n",
      "      color: [255, 255, 255],\n",
      "      width: 1\n",
      "    }\n",
      "  });\n",
      "\n",
      "  var pointGraphic = new Graphic({\n",
      "    geometry: point,\n",
      "    symbol: markerSymbol\n",
      "  });\n",
      "\n",
      "  view.graphics.add(pointGraphic);\n",
      "});\n",
      "```\u001b[0m\n",
      "\n",
      "\u001b[1m> Finished chain.\u001b[0m\n"
     ]
    },
    {
     "data": {
      "text/plain": [
       "{'request': 'where is city hall?',\n",
       " 'context': 'Provide javascript for displaying this location using an ArcGIS Map',\n",
       " 'location': 'Seattle, WA',\n",
       " 'chat_history': [],\n",
       " 'output': 'The geographic coordinates for City Hall in Seattle, WA are:\\n- Longitude: -122.3396\\n- Latitude: 47.46688\\n\\nTo display this location on an ArcGIS Map using Javascript, you can use the following code:\\n\\n```javascript\\nrequire([\\n  \"esri/Map\",\\n  \"esri/views/MapView\",\\n  \"esri/geometry/Point\",\\n  \"esri/symbols/SimpleMarkerSymbol\",\\n  \"esri/Graphic\",\\n  \"dojo/domReady!\"\\n], function(Map, MapView, Point, SimpleMarkerSymbol, Graphic) {\\n\\n  var map = new Map({\\n    basemap: \"streets-navigation-vector\"\\n  });\\n\\n  var view = new MapView({\\n    container: \"viewDiv\",\\n    map: map,\\n    center: [-122.3396, 47.46688],\\n    zoom: 15\\n  });\\n\\n  var point = new Point({\\n    longitude: -122.3396,\\n    latitude: 47.46688\\n  });\\n\\n  var markerSymbol = new SimpleMarkerSymbol({\\n    color: [226, 119, 40],\\n    outline: {\\n      color: [255, 255, 255],\\n      width: 1\\n    }\\n  });\\n\\n  var pointGraphic = new Graphic({\\n    geometry: point,\\n    symbol: markerSymbol\\n  });\\n\\n  view.graphics.add(pointGraphic);\\n});\\n```'}"
      ]
     },
     "execution_count": 11,
     "metadata": {},
     "output_type": "execute_result"
    }
   ],
   "source": [
    "data_agent.invoke({\n",
    "    \"request\": \"where is city hall?\", \n",
    "    \"context\": \"Provide javascript for displaying this location using an ArcGIS Map\", #Provide your response in JSON\n",
    "    \"location\": \"Seattle, WA\",\n",
    "    \"chat_history\": []\n",
    "})"
   ]
  }
 ],
 "metadata": {
  "kernelspec": {
   "display_name": "Python 3",
   "language": "python",
   "name": "python3"
  },
  "language_info": {
   "codemirror_mode": {
    "name": "ipython",
    "version": 3
   },
   "file_extension": ".py",
   "mimetype": "text/x-python",
   "name": "python",
   "nbconvert_exporter": "python",
   "pygments_lexer": "ipython3",
   "version": "3.11.4"
  }
 },
 "nbformat": 4,
 "nbformat_minor": 2
}
