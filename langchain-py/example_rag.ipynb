{
 "cells": [
  {
   "cell_type": "code",
   "execution_count": 1,
   "metadata": {},
   "outputs": [],
   "source": [
    "# Basics of Langchain \n",
    "\n",
    "config = '.env.dev'\n",
    "from dotenv import load_dotenv\n",
    "load_dotenv(config)\n",
    "import os\n",
    "from langchain_openai import AzureChatOpenAI\n",
    "from langchain_community.document_loaders import UnstructuredURLLoader\n",
    "from langchain_community.vectorstores import Chroma\n",
    "\n",
    "system_prompt_template = \"\"\"You are chatting with an AI assistant. The assistant is here to help you with any questions you have.\n",
    "\n",
    "- Assume every request is about the location: {location}\n",
    "\n",
    "Context:\n",
    "{context}\n",
    "\n",
    "History: \n",
    "{chat_history}\n",
    "\n",
    "User Request: {request}\n",
    "\n",
    "\"\"\"\n",
    "\n",
    "llm = AzureChatOpenAI(\n",
    "    temperature=0.9,\n",
    "    model_name=os.environ[\"OPENAI_MODEL_NAME\"], #'text-davinci-003'\n",
    "    openai_api_version=os.environ[\"OPENAI_API_VERSION\"],\n",
    "    azure_endpoint=os.environ[\"AZURE_OPENAI_ENDPOINT\"],\n",
    "    openai_api_key=os.environ[\"AZURE_OPENAI_API_KEY\"],\n",
    "    deployment_name=os.environ[\"OPENAI_DEPLOYMENT_NAME\"]\n",
    ")\n",
    "\n"
   ]
  },
  {
   "cell_type": "code",
   "execution_count": 2,
   "metadata": {},
   "outputs": [],
   "source": [
    "#!pip install \"unstructured[pdf]\""
   ]
  },
  {
   "cell_type": "code",
   "execution_count": 3,
   "metadata": {},
   "outputs": [
    {
     "name": "stderr",
     "output_type": "stream",
     "text": [
      "/Users/andr7059/.pyenv/versions/3.11.10/lib/python3.11/site-packages/tqdm/auto.py:21: TqdmWarning: IProgress not found. Please update jupyter and ipywidgets. See https://ipywidgets.readthedocs.io/en/stable/user_install.html\n",
      "  from .autonotebook import tqdm as notebook_tqdm\n",
      "⚠️ It looks like you upgraded from a version below 0.6 and could benefit from vacuuming your database. Run chromadb utils vacuum --help for more information.\n"
     ]
    }
   ],
   "source": [
    "\n",
    "from langchain_openai import AzureOpenAIEmbeddings\n",
    "\n",
    "pdfs = [\n",
    "    {\n",
    "        \"id\": \"dc_zoning_code\",\n",
    "        \"title\": \"District of Columbia Zoning Code\",\n",
    "        \"url\": 'https://planning.dc.gov/sites/default/files/dc/sites/op/publication/attachments/01_Intro.pdf'\n",
    "    },\n",
    "    {\n",
    "        \"id\": \"dc_bike_laws\",\n",
    "        \"title\": \"Pocket Guide to DC Bike Laws\",\n",
    "        \"url\": 'https://ddot.dc.gov/sites/default/files/dc/sites/ddot/publication/attachments/DC-Bike-Law-Pocket-Guide-Oct2012.pdf'\n",
    "    }\n",
    "]\n",
    "documents = []\n",
    "for pdf in pdfs:\n",
    "    loader = UnstructuredURLLoader( urls=[pdf['url']] )\n",
    "    pages = loader.load_and_split()\n",
    "    for page in pages:\n",
    "        page.metadata = dict(\n",
    "                        source=f'<a href=\"{pdf[\"url\"]}\">{pdf[\"title\"]}</a>'\n",
    "                    )\n",
    "    documents.extend(pages)\n",
    "\n",
    "embedding_function = AzureOpenAIEmbeddings(\n",
    "    azure_endpoint = os.environ[\"OPENAI_EMBEDDINGS_BASE\"],\n",
    "    openai_api_key = os.environ[\"OPENAI_EMBEDDINGS_KEY\"],\n",
    ") \n",
    "\n",
    "chroma_directory = f'./chroma_db'\n",
    "vectorstore = Chroma.from_documents(\n",
    "    pages, \n",
    "    embedding_function,\n",
    "    persist_directory=chroma_directory\n",
    ")\n",
    "from langchain.chains import RetrievalQAWithSourcesChain\n",
    "\n",
    "retriever = vectorstore.as_retriever()\n",
    "chain = RetrievalQAWithSourcesChain.from_llm(\n",
    "    llm, \n",
    "    retriever=retriever, \n",
    "    return_source_documents=True,\n",
    ")\n"
   ]
  },
  {
   "cell_type": "code",
   "execution_count": 4,
   "metadata": {},
   "outputs": [
    {
     "data": {
      "text/plain": [
       "{'question': '\\nYou are a civic AI assistant. You will provide useful information from trusted sources.\\n\\n\\nRequest: Can you ride a bike on sidewalks?',\n",
       " 'answer': 'Bicycles are not permitted on sidewalks in most areas unless there are signs indicating otherwise.\\n',\n",
       " 'sources': '',\n",
       " 'source_documents': [Document(metadata={'source': '<a href=\"https://ddot.dc.gov/sites/default/files/dc/sites/ddot/publication/attachments/DC-Bike-Law-Pocket-Guide-Oct2012.pdf\">Pocket Guide to DC Bike Laws</a>'}, page_content='n Are buildings required to have bike\\n\\nparking?\\n\\nYes. Title 11, Chapter 21 states that, “Bicycle parking shall be provided for office, retail and service uses… The number of bicycle parking spaces shall be at least equal to 5% of the number of automobile spaces…” Residential building bicycle parking is not currently required but it’s a good idea and may soon be required. This law will likely soon change to increase the number of bike parking spaces to 10% of car parking spaces and require all new residential developing to include bike parking spaces.\\n\\n31\\n\\n32\\n\\nBIKES ON METRORAIL AND METROBUS\\n\\nBicycles are permitted on Metrorail on weekdays except between 7 a.m. to 10 a.m. and 4 p.m. to 7 p.m. During the week there is a limit of two bicycles per car. On weekends, bicycles are permitted on Metrorail all day, as well as most holidays. On weekends bikes are limited to four per car. Bicycles are not permitted on Metrorail on July 4th and other special events or holidays when large crowds are expected to use the system.\\n\\nBikes racks are now available on the front of all Metro buses. For more information on bike access to other local transit systems and to learn how to use the bike racks on Metrobus, visit http://www.waba.org/ resources/transit.php.\\n\\nGUIDELINES:\\n\\nFollow these guidelines when bringing your bike on Metrorail or Metrobus.\\n\\nEnter and exit through the first and last—not the center emergency—doors. In an emergency, place your bicycle on the seats and leave it on the train.\\n\\nOnly regular bicycles are permitted (maximum size 80” long, 48” high and 22” side). No tricycles or training wheels are allowed. Folding bikes are allowed on Metrorail at all times and do not need to covered or in a bag.\\n\\nUse the elevator at all times. Do not take bicycles on escalators. Avoid blocking doorways and aisles. Yield to other passengers.\\n\\nDo not ride bicycles in stations, on platforms or trains. Keep both wheels on the ground and the kickstand up. Maintain control of your bicycle. • If you are under 16 years of age, you must be accompanied by an adult.\\n\\n33\\n\\n34\\n\\nWHAT TO DO IN CASE OF A BIKE CRASH\\n\\nIf you’re hurt in a traffic crash, don’t ride away or shake off what seems like a minor injury—you might find later that it’s worse than you thought. Instead: • Call the police at 911 (or 311 or #77). If needed, get\\n\\nmedical help immediately.\\n\\nGet the following information from every vehicle: driver’s name, address, phone number, driver’s license number, license plate number, make of car, insurance company name and policy number.\\n\\nGet the names and phone numbers of witnesses. Get the name and badge number of the police officer\\n\\nGet the police report number from police on the scene.\\n\\nWrite down how the crash happened while it’s fresh in your memory.\\n\\nKeep (or photograph) any damaged clothes or equipment.\\n\\nAlso, if you’re a victim:\\n\\nDon’t get mad at the scene. Keep a level head so you can ask questions and take notes.\\n\\nIf injured, don’t move unless you’re sure you won’t hurt yourself more.\\n\\nCall WABA at 202-518-0524 if you need further assistance.\\n\\nGET THIS INFO:\\n\\nDRIVER, VEHICLE, INSURANCE:\\n\\nDriver’s Name:\\n\\nDriver’s License #:\\n\\nAddress:\\n\\nPhone:\\n\\nMake of Car:\\n\\nLicense Plate #:\\n\\nInsurance Company:\\n\\nPolicy #:\\n\\nWITNESSES:\\n\\nName:\\n\\nPhone:\\n\\nName:\\n\\nPhone:\\n\\nPOLICE:\\n\\nName:\\n\\nBadge #:\\n\\nPolice Report #:\\n\\n35\\n\\n36\\n\\nADDITIONAL INFORMATION\\n\\nThe mission of the Washington Area Bicyclist Association is to create a healthy, more livable region by promoting bicycling for fun, fitness, and affordable transportation; advocating for better bicycling conditions and transportation choices for a healthier environment, and educating children, adults, and motorists about safe bicycling. Since 1972, WABA has been working tirelessly to make it easier and safer to ride for transportation and recreation. For more information on safe cycling tips, local bike maps and the bike laws of other areas, please visit www.waba.org or call us at 202-518-0524.'),\n",
       "  Document(metadata={'source': '<a href=\"https://ddot.dc.gov/sites/default/files/dc/sites/ddot/publication/attachments/DC-Bike-Law-Pocket-Guide-Oct2012.pdf\">Pocket Guide to DC Bike Laws</a>'}, page_content='n Are buildings required to have bike\\n\\nparking?\\n\\nYes. Title 11, Chapter 21 states that, “Bicycle parking shall be provided for office, retail and service uses… The number of bicycle parking spaces shall be at least equal to 5% of the number of automobile spaces…” Residential building bicycle parking is not currently required but it’s a good idea and may soon be required. This law will likely soon change to increase the number of bike parking spaces to 10% of car parking spaces and require all new residential developing to include bike parking spaces.\\n\\n31\\n\\n32\\n\\nBIKES ON METRORAIL AND METROBUS\\n\\nBicycles are permitted on Metrorail on weekdays except between 7 a.m. to 10 a.m. and 4 p.m. to 7 p.m. During the week there is a limit of two bicycles per car. On weekends, bicycles are permitted on Metrorail all day, as well as most holidays. On weekends bikes are limited to four per car. Bicycles are not permitted on Metrorail on July 4th and other special events or holidays when large crowds are expected to use the system.\\n\\nBikes racks are now available on the front of all Metro buses. For more information on bike access to other local transit systems and to learn how to use the bike racks on Metrobus, visit http://www.waba.org/ resources/transit.php.\\n\\nGUIDELINES:\\n\\nFollow these guidelines when bringing your bike on Metrorail or Metrobus.\\n\\nEnter and exit through the first and last—not the center emergency—doors. In an emergency, place your bicycle on the seats and leave it on the train.\\n\\nOnly regular bicycles are permitted (maximum size 80” long, 48” high and 22” side). No tricycles or training wheels are allowed. Folding bikes are allowed on Metrorail at all times and do not need to covered or in a bag.\\n\\nUse the elevator at all times. Do not take bicycles on escalators. Avoid blocking doorways and aisles. Yield to other passengers.\\n\\nDo not ride bicycles in stations, on platforms or trains. Keep both wheels on the ground and the kickstand up. Maintain control of your bicycle. • If you are under 16 years of age, you must be accompanied by an adult.\\n\\n33\\n\\n34\\n\\nWHAT TO DO IN CASE OF A BIKE CRASH\\n\\nIf you’re hurt in a traffic crash, don’t ride away or shake off what seems like a minor injury—you might find later that it’s worse than you thought. Instead: • Call the police at 911 (or 311 or #77). If needed, get\\n\\nmedical help immediately.\\n\\nGet the following information from every vehicle: driver’s name, address, phone number, driver’s license number, license plate number, make of car, insurance company name and policy number.\\n\\nGet the names and phone numbers of witnesses. Get the name and badge number of the police officer\\n\\nGet the police report number from police on the scene.\\n\\nWrite down how the crash happened while it’s fresh in your memory.\\n\\nKeep (or photograph) any damaged clothes or equipment.\\n\\nAlso, if you’re a victim:\\n\\nDon’t get mad at the scene. Keep a level head so you can ask questions and take notes.\\n\\nIf injured, don’t move unless you’re sure you won’t hurt yourself more.\\n\\nCall WABA at 202-518-0524 if you need further assistance.\\n\\nGET THIS INFO:\\n\\nDRIVER, VEHICLE, INSURANCE:\\n\\nDriver’s Name:\\n\\nDriver’s License #:\\n\\nAddress:\\n\\nPhone:\\n\\nMake of Car:\\n\\nLicense Plate #:\\n\\nInsurance Company:\\n\\nPolicy #:\\n\\nWITNESSES:\\n\\nName:\\n\\nPhone:\\n\\nName:\\n\\nPhone:\\n\\nPOLICE:\\n\\nName:\\n\\nBadge #:\\n\\nPolice Report #:\\n\\n35\\n\\n36\\n\\nADDITIONAL INFORMATION\\n\\nThe mission of the Washington Area Bicyclist Association is to create a healthy, more livable region by promoting bicycling for fun, fitness, and affordable transportation; advocating for better bicycling conditions and transportation choices for a healthier environment, and educating children, adults, and motorists about safe bicycling. Since 1972, WABA has been working tirelessly to make it easier and safer to ride for transportation and recreation. For more information on safe cycling tips, local bike maps and the bike laws of other areas, please visit www.waba.org or call us at 202-518-0524.'),\n",
       "  Document(metadata={'source': '<a href=\"https://ddot.dc.gov/sites/default/files/dc/sites/ddot/publication/attachments/DC-Bike-Law-Pocket-Guide-Oct2012.pdf\">Pocket Guide to DC Bike Laws</a>'}, page_content='n Are buildings required to have bike\\n\\nparking?\\n\\nYes. Title 11, Chapter 21 states that, “Bicycle parking shall be provided for office, retail and service uses… The number of bicycle parking spaces shall be at least equal to 5% of the number of automobile spaces…” Residential building bicycle parking is not currently required but it’s a good idea and may soon be required. This law will likely soon change to increase the number of bike parking spaces to 10% of car parking spaces and require all new residential developing to include bike parking spaces.\\n\\n31\\n\\n32\\n\\nBIKES ON METRORAIL AND METROBUS\\n\\nBicycles are permitted on Metrorail on weekdays except between 7 a.m. to 10 a.m. and 4 p.m. to 7 p.m. During the week there is a limit of two bicycles per car. On weekends, bicycles are permitted on Metrorail all day, as well as most holidays. On weekends bikes are limited to four per car. Bicycles are not permitted on Metrorail on July 4th and other special events or holidays when large crowds are expected to use the system.\\n\\nBikes racks are now available on the front of all Metro buses. For more information on bike access to other local transit systems and to learn how to use the bike racks on Metrobus, visit http://www.waba.org/ resources/transit.php.\\n\\nGUIDELINES:\\n\\nFollow these guidelines when bringing your bike on Metrorail or Metrobus.\\n\\nEnter and exit through the first and last—not the center emergency—doors. In an emergency, place your bicycle on the seats and leave it on the train.\\n\\nOnly regular bicycles are permitted (maximum size 80” long, 48” high and 22” side). No tricycles or training wheels are allowed. Folding bikes are allowed on Metrorail at all times and do not need to covered or in a bag.\\n\\nUse the elevator at all times. Do not take bicycles on escalators. Avoid blocking doorways and aisles. Yield to other passengers.\\n\\nDo not ride bicycles in stations, on platforms or trains. Keep both wheels on the ground and the kickstand up. Maintain control of your bicycle. • If you are under 16 years of age, you must be accompanied by an adult.\\n\\n33\\n\\n34\\n\\nWHAT TO DO IN CASE OF A BIKE CRASH\\n\\nIf you’re hurt in a traffic crash, don’t ride away or shake off what seems like a minor injury—you might find later that it’s worse than you thought. Instead: • Call the police at 911 (or 311 or #77). If needed, get\\n\\nmedical help immediately.\\n\\nGet the following information from every vehicle: driver’s name, address, phone number, driver’s license number, license plate number, make of car, insurance company name and policy number.\\n\\nGet the names and phone numbers of witnesses. Get the name and badge number of the police officer\\n\\nGet the police report number from police on the scene.\\n\\nWrite down how the crash happened while it’s fresh in your memory.\\n\\nKeep (or photograph) any damaged clothes or equipment.\\n\\nAlso, if you’re a victim:\\n\\nDon’t get mad at the scene. Keep a level head so you can ask questions and take notes.\\n\\nIf injured, don’t move unless you’re sure you won’t hurt yourself more.\\n\\nCall WABA at 202-518-0524 if you need further assistance.\\n\\nGET THIS INFO:\\n\\nDRIVER, VEHICLE, INSURANCE:\\n\\nDriver’s Name:\\n\\nDriver’s License #:\\n\\nAddress:\\n\\nPhone:\\n\\nMake of Car:\\n\\nLicense Plate #:\\n\\nInsurance Company:\\n\\nPolicy #:\\n\\nWITNESSES:\\n\\nName:\\n\\nPhone:\\n\\nName:\\n\\nPhone:\\n\\nPOLICE:\\n\\nName:\\n\\nBadge #:\\n\\nPolice Report #:\\n\\n35\\n\\n36\\n\\nADDITIONAL INFORMATION\\n\\nThe mission of the Washington Area Bicyclist Association is to create a healthy, more livable region by promoting bicycling for fun, fitness, and affordable transportation; advocating for better bicycling conditions and transportation choices for a healthier environment, and educating children, adults, and motorists about safe bicycling. Since 1972, WABA has been working tirelessly to make it easier and safer to ride for transportation and recreation. For more information on safe cycling tips, local bike maps and the bike laws of other areas, please visit www.waba.org or call us at 202-518-0524.'),\n",
       "  Document(metadata={'source': '<a href=\"https://ddot.dc.gov/sites/default/files/dc/sites/ddot/publication/attachments/DC-Bike-Law-Pocket-Guide-Oct2012.pdf\">Pocket Guide to DC Bike Laws</a>'}, page_content='n Are buildings required to have bike\\n\\nparking?\\n\\nYes. Title 11, Chapter 21 states that, “Bicycle parking shall be provided for office, retail and service uses… The number of bicycle parking spaces shall be at least equal to 5% of the number of automobile spaces…” Residential building bicycle parking is not currently required but it’s a good idea and may soon be required. This law will likely soon change to increase the number of bike parking spaces to 10% of car parking spaces and require all new residential developing to include bike parking spaces.\\n\\n31\\n\\n32\\n\\nBIKES ON METRORAIL AND METROBUS\\n\\nBicycles are permitted on Metrorail on weekdays except between 7 a.m. to 10 a.m. and 4 p.m. to 7 p.m. During the week there is a limit of two bicycles per car. On weekends, bicycles are permitted on Metrorail all day, as well as most holidays. On weekends bikes are limited to four per car. Bicycles are not permitted on Metrorail on July 4th and other special events or holidays when large crowds are expected to use the system.\\n\\nBikes racks are now available on the front of all Metro buses. For more information on bike access to other local transit systems and to learn how to use the bike racks on Metrobus, visit http://www.waba.org/ resources/transit.php.\\n\\nGUIDELINES:\\n\\nFollow these guidelines when bringing your bike on Metrorail or Metrobus.\\n\\nEnter and exit through the first and last—not the center emergency—doors. In an emergency, place your bicycle on the seats and leave it on the train.\\n\\nOnly regular bicycles are permitted (maximum size 80” long, 48” high and 22” side). No tricycles or training wheels are allowed. Folding bikes are allowed on Metrorail at all times and do not need to covered or in a bag.\\n\\nUse the elevator at all times. Do not take bicycles on escalators. Avoid blocking doorways and aisles. Yield to other passengers.\\n\\nDo not ride bicycles in stations, on platforms or trains. Keep both wheels on the ground and the kickstand up. Maintain control of your bicycle. • If you are under 16 years of age, you must be accompanied by an adult.\\n\\n33\\n\\n34\\n\\nWHAT TO DO IN CASE OF A BIKE CRASH\\n\\nIf you’re hurt in a traffic crash, don’t ride away or shake off what seems like a minor injury—you might find later that it’s worse than you thought. Instead: • Call the police at 911 (or 311 or #77). If needed, get\\n\\nmedical help immediately.\\n\\nGet the following information from every vehicle: driver’s name, address, phone number, driver’s license number, license plate number, make of car, insurance company name and policy number.\\n\\nGet the names and phone numbers of witnesses. Get the name and badge number of the police officer\\n\\nGet the police report number from police on the scene.\\n\\nWrite down how the crash happened while it’s fresh in your memory.\\n\\nKeep (or photograph) any damaged clothes or equipment.\\n\\nAlso, if you’re a victim:\\n\\nDon’t get mad at the scene. Keep a level head so you can ask questions and take notes.\\n\\nIf injured, don’t move unless you’re sure you won’t hurt yourself more.\\n\\nCall WABA at 202-518-0524 if you need further assistance.\\n\\nGET THIS INFO:\\n\\nDRIVER, VEHICLE, INSURANCE:\\n\\nDriver’s Name:\\n\\nDriver’s License #:\\n\\nAddress:\\n\\nPhone:\\n\\nMake of Car:\\n\\nLicense Plate #:\\n\\nInsurance Company:\\n\\nPolicy #:\\n\\nWITNESSES:\\n\\nName:\\n\\nPhone:\\n\\nName:\\n\\nPhone:\\n\\nPOLICE:\\n\\nName:\\n\\nBadge #:\\n\\nPolice Report #:\\n\\n35\\n\\n36\\n\\nADDITIONAL INFORMATION\\n\\nThe mission of the Washington Area Bicyclist Association is to create a healthy, more livable region by promoting bicycling for fun, fitness, and affordable transportation; advocating for better bicycling conditions and transportation choices for a healthier environment, and educating children, adults, and motorists about safe bicycling. Since 1972, WABA has been working tirelessly to make it easier and safer to ride for transportation and recreation. For more information on safe cycling tips, local bike maps and the bike laws of other areas, please visit www.waba.org or call us at 202-518-0524.')]}"
      ]
     },
     "execution_count": 4,
     "metadata": {},
     "output_type": "execute_result"
    }
   ],
   "source": [
    "\n",
    "information_prompt_template = \"\"\"\n",
    "You are a civic AI assistant. You will provide useful information from trusted sources.\n",
    "\n",
    "\"\"\"\n",
    "\n",
    "request = \"Can you ride a bike on sidewalks?\"\n",
    "prompt_query = f'{information_prompt_template}\\nRequest: {request}'\n",
    "\n",
    "response = chain.invoke({\"question\": prompt_query})\n",
    "response"
   ]
  },
  {
   "cell_type": "code",
   "execution_count": null,
   "metadata": {},
   "outputs": [],
   "source": [
    "request = \"What is is an ?\"\n",
    "prompt_query = f'{information_prompt_template}\\nRequest: {request}'\n",
    "\n",
    "response = chain.invoke({\"question\": prompt_query})\n",
    "response"
   ]
  }
 ],
 "metadata": {
  "kernelspec": {
   "display_name": "Python 3",
   "language": "python",
   "name": "python3"
  },
  "language_info": {
   "codemirror_mode": {
    "name": "ipython",
    "version": 3
   },
   "file_extension": ".py",
   "mimetype": "text/x-python",
   "name": "python",
   "nbconvert_exporter": "python",
   "pygments_lexer": "ipython3",
   "version": "3.11.10"
  }
 },
 "nbformat": 4,
 "nbformat_minor": 2
}
