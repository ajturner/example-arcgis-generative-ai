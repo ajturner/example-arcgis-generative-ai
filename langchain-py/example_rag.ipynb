{
 "cells": [
  {
   "cell_type": "code",
   "execution_count": 1,
   "metadata": {},
   "outputs": [],
   "source": [
    "# Basics of Langchain \n",
    "\n",
    "config = '.env.dev'\n",
    "from dotenv import load_dotenv\n",
    "load_dotenv(config)\n",
    "import os\n",
    "from langchain_openai import AzureChatOpenAI\n",
    "from langchain_community.document_loaders import UnstructuredURLLoader\n",
    "from langchain_community.vectorstores import Chroma\n",
    "\n",
    "system_prompt_template = \"\"\"You are chatting with an AI assistant. The assistant is here to help you with any questions you have.\n",
    "\n",
    "- Assume every request is about the location: {location}\n",
    "\n",
    "Context:\n",
    "{context}\n",
    "\n",
    "History: \n",
    "{chat_history}\n",
    "\n",
    "User Request: {request}\n",
    "\n",
    "\"\"\"\n",
    "\n",
    "llm = AzureChatOpenAI(\n",
    "    temperature=0.9,\n",
    "    model_name=os.environ[\"OPENAI_MODEL_NAME\"], #'text-davinci-003'\n",
    "    openai_api_version=os.environ[\"OPENAI_API_VERSION\"],\n",
    "    azure_endpoint=os.environ[\"AZURE_OPENAI_ENDPOINT\"],\n",
    "    openai_api_key=os.environ[\"AZURE_OPENAI_API_KEY\"],\n",
    "    deployment_name=os.environ[\"OPENAI_DEPLOYMENT_NAME\"]\n",
    ")\n",
    "\n"
   ]
  },
  {
   "cell_type": "code",
   "execution_count": 2,
   "metadata": {},
   "outputs": [],
   "source": [
    "\n",
    "from langchain_openai import AzureOpenAIEmbeddings\n",
    "\n",
    "pdfs = [\n",
    "    {\n",
    "        \"id\": \"dc_zoning_code\",\n",
    "        \"title\": \"District of Columbia Zoning Code\",\n",
    "        \"url\": 'https://planning.dc.gov/sites/default/files/dc/sites/op/publication/attachments/01_Intro.pdf'\n",
    "    },\n",
    "    {\n",
    "        \"id\": \"dc_bike_laws\",\n",
    "        \"title\": \"Pocket Guide to DC Bike Laws\",\n",
    "        \"url\": 'https://ddot.dc.gov/sites/default/files/dc/sites/ddot/publication/attachments/DC-Bike-Law-Pocket-Guide-Oct2012.pdf'\n",
    "    }\n",
    "]\n",
    "documents = []\n",
    "for pdf in pdfs:\n",
    "    loader = UnstructuredURLLoader( urls=[pdf['url']] )\n",
    "    pages = loader.load_and_split()\n",
    "    for page in pages:\n",
    "        page.metadata = dict(\n",
    "                        source=f'<a href=\"{pdf[\"url\"]}\">{pdf[\"title\"]}</a>'\n",
    "                    )\n",
    "    documents.extend(pages)\n",
    "\n",
    "embedding_function = AzureOpenAIEmbeddings(\n",
    "    azure_endpoint = os.environ[\"OPENAI_EMBEDDINGS_BASE\"],\n",
    "    openai_api_key = os.environ[\"OPENAI_EMBEDDINGS_KEY\"],\n",
    ") \n",
    "\n",
    "chroma_directory = f'./chroma_db'\n",
    "vectorstore = Chroma.from_documents(\n",
    "    pages, \n",
    "    embedding_function,\n",
    "    persist_directory=chroma_directory\n",
    ")\n",
    "from langchain.chains import RetrievalQAWithSourcesChain\n",
    "\n",
    "retriever = vectorstore.as_retriever()\n",
    "chain = RetrievalQAWithSourcesChain.from_llm(\n",
    "    llm, \n",
    "    retriever=retriever, \n",
    "    return_source_documents=True,\n",
    ")\n"
   ]
  },
  {
   "cell_type": "code",
   "execution_count": 3,
   "metadata": {},
   "outputs": [
    {
     "data": {
      "text/plain": [
       "{'question': '\\nYou are a civic AI assistant. You will provide useful information from trusted sources.\\n\\n\\nRequest: Can you ride a bike on sidewalks?',\n",
       " 'answer': 'In the District of Columbia, it is legal to ride on the sidewalk outside the central business district. Riders should yield the right-of-way to pedestrians. Riding on sidewalks in the central business district is not advisable, so riders should do so at their own risk.\\n',\n",
       " 'sources': '<a href=\"https://ddot.dc.gov/sites/default/files/dc/sites/ddot/publication/attachments/DC-Bike-Law-Pocket-Guide-Oct2012.pdf\">DC Bike Laws</a>',\n",
       " 'source_documents': [Document(page_content='n Are buildings required to have bike\\n\\nparking?\\n\\nYes. Title 11, Chapter 21 states that, “Bicycle parking shall be provided for office, retail and service uses… The number of bicycle parking spaces shall be at least equal to 5% of the number of automobile spaces…” Residential building bicycle parking is not currently required but it’s a good idea and may soon be required. This law will likely soon change to increase the number of bike parking spaces to 10% of car parking spaces and require all new residential developing to include bike parking spaces.\\n\\n31\\n\\n32\\n\\nBIKES ON METRORAIL AND METROBUS\\n\\nBicycles are permitted on Metrorail on weekdays except between 7 a.m. to 10 a.m. and 4 p.m. to 7 p.m. During the week there is a limit of two bicycles per car. On weekends, bicycles are permitted on Metrorail all day, as well as most holidays. On weekends bikes are limited to four per car. Bicycles are not permitted on Metrorail on July 4th and other special events or holidays when large crowds are expected to use the system.\\n\\nBikes racks are now available on the front of all Metro buses. For more information on bike access to other local transit systems and to learn how to use the bike racks on Metrobus, visit http://www.waba.org/ resources/transit.php.\\n\\nGUIDELINES:\\n\\nFollow these guidelines when bringing your bike on Metrorail or Metrobus.\\n\\nEnter and exit through the first and last—not the center emergency—doors. In an emergency, place your bicycle on the seats and leave it on the train.\\n\\nOnly regular bicycles are permitted (maximum size 80” long, 48” high and 22” side). No tricycles or training wheels are allowed. Folding bikes are allowed on Metrorail at all times and do not need to covered or in a bag.\\n\\nUse the elevator at all times. Do not take bicycles on escalators. Avoid blocking doorways and aisles. Yield to other passengers.\\n\\nDo not ride bicycles in stations, on platforms or trains. Keep both wheels on the ground and the kickstand up. Maintain control of your bicycle. • If you are under 16 years of age, you must be accompanied by an adult.\\n\\n33\\n\\n34\\n\\nWHAT TO DO IN CASE OF A BIKE CRASH\\n\\nIf you’re hurt in a traffic crash, don’t ride away or shake off what seems like a minor injury—you might find later that it’s worse than you thought. Instead: • Call the police at 911 (or 311 or #77). If needed, get\\n\\nmedical help immediately.\\n\\nGet the following information from every vehicle: driver’s name, address, phone number, driver’s license number, license plate number, make of car, insurance company name and policy number.\\n\\nGet the names and phone numbers of witnesses. Get the name and badge number of the police officer\\n\\nGet the police report number from police on the scene.\\n\\nWrite down how the crash happened while it’s fresh in your memory.\\n\\nKeep (or photograph) any damaged clothes or equipment.\\n\\nAlso, if you’re a victim:\\n\\nDon’t get mad at the scene. Keep a level head so you can ask questions and take notes.\\n\\nIf injured, don’t move unless you’re sure you won’t hurt yourself more.\\n\\nCall WABA at 202-518-0524 if you need further assistance.\\n\\nGET THIS INFO:\\n\\nDRIVER, VEHICLE, INSURANCE:\\n\\nDriver’s Name:\\n\\nDriver’s License #:\\n\\nAddress:\\n\\nPhone:\\n\\nMake of Car:\\n\\nLicense Plate #:\\n\\nInsurance Company:\\n\\nPolicy #:\\n\\nWITNESSES:\\n\\nName:\\n\\nPhone:\\n\\nName:\\n\\nPhone:\\n\\nPOLICE:\\n\\nName:\\n\\nBadge #:\\n\\nPolice Report #:\\n\\n35\\n\\n36\\n\\nADDITIONAL INFORMATION\\n\\nThe mission of the Washington Area Bicyclist Association is to create a healthy, more livable region by promoting bicycling for fun, fitness, and affordable transportation; advocating for better bicycling conditions and transportation choices for a healthier environment, and educating children, adults, and motorists about safe bicycling. Since 1972, WABA has been working tirelessly to make it easier and safer to ride for transportation and recreation. For more information on safe cycling tips, local bike maps and the bike laws of other areas, please visit www.waba.org or call us at 202-518-0524.', metadata={'source': '<a href=\"https://ddot.dc.gov/sites/default/files/dc/sites/ddot/publication/attachments/DC-Bike-Law-Pocket-Guide-Oct2012.pdf\">Pocket Guide to DC Bike Laws</a>'}),\n",
       "  Document(page_content='6. Sidewalk Riding INCIDENT: Bicyclist stopped for riding on the sidewalk outside of the Central Business District. MPD RESPONSE: Officer cites bicyclist for riding on the sidewalk.\\n\\nWHY IT WAS WRONG: Title 18 (1201.9) permits bicycle riding on sidewalks except in the Central Business District. (Roughly Massachusetts Avenue to the north, Constitution Avenue to the south, 23rd Street NW, to the west and 2nd Street, NE to the east).\\n\\n7. Riding Outside the Bike Lane INCIDENT: Bicyclist stopped for riding in the road when a path or bicycle lane is present. MPD RESPONSE: Officer cites bicyclist.\\n\\nB K E L A N E\\n\\nI\\n\\nWHY IT WAS WRONG: Title 18 (2220.6) states that the existence of Restricted Lanes on any roadway does not limit those vehicles for which the restrictions are established solely for use of the Restricted Lanes unless specifically indicated by signs.\\n\\n21\\n\\nCOMMON ENFORCEMENT ERRORS\\n\\n8. Taking the Lane INCIDENT: Bicyclist riding in the center of a narrow travel lane is stopped by police for impeding traffic. MPD RESPONSE: Officer cites bicyclist for obstructing traffic.\\n\\nWHY IT WAS WRONG: Title 18 (1201.3) says that a bicyclist riding on a highway shall not unduly or unnecessarily impede or obstruct traffic. However, according to Title 18 (1201.2) a bicyclist does not have to ride to the far right if the lane is narrow or if he/she is trying to avoid car doors, pavement hazards, or similar hazardous conditions. A narrow lane is 11 feet wide or less. Most lanes in the District are 11 feet or less.\\n\\n22\\n\\n9. Vehicle Not Yielding INCIDENT: Bicyclist riding on sidewalk is hit by car entering or exiting driveway. MPD RESPONSE: Officer cites bicyclist.\\n\\nWHY IT WAS WRONG: Title 18 (2207.2) requires that drivers of a vehicle crossing a sidewalk shall yield the right-of-way to any pedestrian and all other traffic using the sidewalk.\\n\\n23\\n\\n24\\n\\nThere are many organized bicycling events throughout the year.\\n\\nVisit www.waba.org for a bicycling events calendar.\\n\\nBICYCLING INFRACTIONS\\n\\nBelow is a list of common bicycling infractions and the fines associated with them (DCMR 18-2602.1)\\n\\nCarrying objects which prevent operator from keeping one hand on handle bars (1201.6) $25\\n\\nExcessive number of riders (1201.5)\\n\\nFurnishing false information (1202.8)\\n\\nHazardous driving (1201.2)\\n\\nHitching on vehicle (1201.16)\\n\\nImpeding or obstructing traffic (1201.3)\\n\\nImproper equipment (1204)\\n\\nImproper Securing of Bicycle (1209)\\n\\nRiding on sidewalk where not permitted (1201.9) $25\\n\\nRiding abreast, obstructing traffic (1201.7)\\n\\nRight-of-way, failure to yield (120 1.1)\\n\\nSounding of warning device (1204.6)\\n\\nSpeed, excessive (1201.8)\\n\\nTraffic control device, disobeying (1201.15)\\n\\n$25\\n\\n$ 5\\n\\n$25\\n\\n$25\\n\\n$25\\n\\n$25\\n\\n$25\\n\\n$25\\n\\n$25\\n\\n$25\\n\\n$25\\n\\n$25\\n\\n25\\n\\n26\\n\\nSAFETY EQUIPMENT n What are the helmet laws in DC?\\n\\nAccording to Title 50, Section 1605(a) “Motor and Non-Motor Vehicles and Traffic”, Subtitle V, Chapter 16 “Regulation of Bicycles”,\\n\\nIt shall be unlawful for any person under 16 years of age to operate or to be a passenger on a bicycle or any attachment to a bicycle on a public roadway, public bicycle path or other right-of-way, unless that person wears a protective helmet of good fit, fastened securely upon the head with the straps of the helmet.\\n\\nIt’s the law for children AND it makes good safety sense for everyone.\\n\\nn Does a bike with a fixed gear need a brake?\\n\\nNo. From section 1204.1:\\n\\nEach bicycle shall be equipped with a brake which enables the operator to cause the braked wheels to skid on dry, level, clean pavement; provided, that a fixed gear bicycle is not required to have a separate brake, but an operator of a fixed gear bicycle shall be able to stop the bicycle using the pedals.\\n\\nn Does a bike need lights when being ridden at\\n\\nnight?\\n\\nYes. Section 1204.2 states,', metadata={'source': '<a href=\"https://ddot.dc.gov/sites/default/files/dc/sites/ddot/publication/attachments/DC-Bike-Law-Pocket-Guide-Oct2012.pdf\">Pocket Guide to DC Bike Laws</a>'}),\n",
       "  Document(page_content='In addition Section 1201.15 states,\\n\\nNo person shall operate a bicycle except in obedience to the instructions of official traffic control signals, signs, and other control devices applicable to vehicles, unless otherwise directed by a police officer or other person authorized to direct and control traffic.\\n\\n7\\n\\n8\\n\\nTRAFFIC LAWS\\n\\nn Does a cyclist have to ride with traffic?\\n\\nYes, cyclists must ride with traffic. Wrong way riding is the cause of many bike crashes. (see page 6.)\\n\\nn Does a cyclist always have to ride to the\\n\\nright?\\n\\nNo, there is no law requiring cyclists to ride in the right portion of the traffic lane.\\n\\nn Who has the right-of-way in a crosswalk?\\n\\nAccording to DC code Section 1201.11, a bicyclist in a crosswalk has all the rights and responsibilities as a pedestrian in a crosswalk, though cyclists must yield right-of-way to pedestrians. According to Title 50, Section 2201.28, at unsignalized crossings, drivers must stop and yield the right-of-way to a pedestrian crossing the roadway. At signalized crosswalks, drivers must yield the right-of-way.\\n\\nn Is it legal to ride between lanes?\\n\\nAccording to the DCMR a cyclist can split lanes. Section 1201.3(b) states:\\n\\nA person operating a bicycle may overtake and pass other vehicles on the left or right side, staying in the same lane as the overtaken vehicle, or changing to a different lane, or riding off the roadway, as necessary to pass with safety. Paragraph (c) in this section states,\\n\\nIf a lane is partially occupied by vehicles that are stopped, standing, or parked in that lane, a person operating a bicycle may ride in that or in the next adjacent lane used by vehicles proceeding in the same direction.\\n\\nn Does a cyclist have to ride in a bike lane?\\n\\nThere are no regulations in DC which state that bicyclists must use a bike lane when one is provided.\\n\\n9\\n\\n10\\n\\nTRAFFIC LAWS\\n\\nn Is it legal to ride on the sidewalk?\\n\\nWhile not recommended safe cycling practice in most instances, DC code states that cyclists are allowed to ride on the sidewalk as long as they are outside the central business district (CBD). The CBD is bounded by 2nd Street NE and SE, D Street SE and SW, 14th Street SW and NW, Constitution Ave NW, 23rd Street NW, and Massachusetts Ave NW. Within the CBD, bicycling is allowed on lands under the jurisdiction of the National Park Service including places like Lafayette Park, Farragut Square Park, the National Mall and Dupont Circle. However, if cyclists do ride on the sidewalk they must yield the right-of-way to pedestrians.\\n\\nn Do I need to register my bike?\\n\\nAs of June 1st, 2008, bikes are no longer required to be registered in the District and you cannot be pulled over for having an unregistered bike. For security reasons, WABA still recommends registering your bike with the National Bike Registry. More informa- tion can be found at www.nationalbikeregistry.com.\\n\\nn Can cars be parked in a bike lane?\\n\\nNo. Section 2405.1(g) states that it’s illegal to stop, stand or park in a bike lane. To report a car parked in a bike lane, please call 311.\\n\\nn Is it legal for cyclists to ride two abreast?\\n\\nYes. Section 1201.7:\\n\\nPersons riding upon a roadway shall not ride more than two abreast except on paths or part of roadways set aside for the exclusive use of bicycles. Persons riding two abreast shall not impede the normal and reasonable movement of traffic and, on a laned roadway, shall ride within a single lane.\\n\\nn A cyclist has been “doored”.\\n\\nWho’s at fault?\\n\\nThe person in the car. Section 2214.4 reads,\\n\\nNo person shall open a door of a vehicle on the side where traffic is approaching unless it can be done without interfering with moving traffic or pedestrians and with safety to himself or herself and passengers.\\n\\n11\\n\\n12\\n\\nTRAFFIC LAWS\\n\\nn Are cars allowed in bus/bike lanes?\\n\\nAccording to the DCMR Section 2220,', metadata={'source': '<a href=\"https://ddot.dc.gov/sites/default/files/dc/sites/ddot/publication/attachments/DC-Bike-Law-Pocket-Guide-Oct2012.pdf\">Pocket Guide to DC Bike Laws</a>'}),\n",
       "  Document(page_content='POCKET GUIDE TO DC BIKE LAWS\\n\\n1\\n\\n2\\n\\nINTRODUCTION\\n\\nThanks for picking up a copy of the Pocket Guide to DC Bike Laws. This guide, which is produced by the Washington Area Bicyclist Association, the District of Columbia Department of Transportation, and the Metropolitan Police Department, is designed to help inform both cyclists and law enforcement officers of the rights and responsibilities of cyclists on DC streets. Unless otherwise noted, all quoted regulations are taken from the District of Columbia Municipal Regulations (DCMR), Title 18 “Vehicles and Traffic”, Chapter 12 “Bicycles, Motorized Bicycles, and Miscellaneous Vehicles”, and Chapter 22 “Moving Violations”. For direct links to the DCMR, as well as for links to the laws of other areas, please visit http://www.waba.org/resources/laws.php.\\n\\n3\\n\\n4\\n\\nTABLE OF CONTENTS\\n\\nTraffic Laws ................................................................... 7\\n\\nDoes a cyclist have to obey traffic laws? ................... 7\\n\\nDoes a cyclist have to ride with traffic? ..................... 8\\n\\nDoes a cyclist always have to ride to the right? ........ 8\\n\\nWho has the right-of-way in a crosswalk? ................. 8\\n\\nIs it legal to ride between lanes? ............................... 9\\n\\nDoes a cyclist have to ride in a bike lane? ................. 9\\n\\nIs it legal to ride on the sidewalk? ........................... 10\\n\\nDo I need to register my bike? .................................. 10\\n\\nCan cars be parked in a bike lane? ........................... 11\\n\\nIs it legal for cyclists to ride two abreast? ................ 11\\n\\nA cyclist has been “doored”. Who’s at fault? ........... 11\\n\\nAre cars allowed in bus/bike lanes? ........................ 12\\n\\nIs it legal to talk on a cell phone while riding? ........ 13\\n\\nCommon Enforcement Errors ......................................15\\n\\nBicycling Infractions ...................................................25\\n\\nSafety Equipment ....................................................... 26\\n\\nWhat are the helmet laws in DC? ............................ 26\\n\\nDoes a bike with a fixed gear need a brake? .......... 26\\n\\nDoes a bike need lights when being ridden at night? .........................................................27\\n\\nDoes a bike need a bell? .............................................2\\n\\nBike Parking & Security ............................................. 28\\n\\nWhat is the best way to lock a bike? ...................... 28\\n\\nWhere can a bike be locked? .................................. 29\\n\\nHow does someone request a bike rack? ............... 30\\n\\nHow does someone request the removal of an abandoned bike? ...................................................... 30\\n\\nHow long can a bike be parked in a public space? ............................................................ 31\\n\\nAre buildings required to have bike parking? ......... 31\\n\\nBikes on Metrorail and Metrobus ............................. 32\\n\\nGuidelines ................................................................. 33\\n\\nWhat To Do in Case of a Bike Crash ......................... 34\\n\\nGet This Info ............................................................. 35\\n\\nAdditional Information............................................... 36\\n\\n5\\n\\n6\\n\\nTRAFFIC LAWS\\n\\nn Does a cyclist have to obey traffic laws?\\n\\nYes, cyclists have to obey traffic laws.\\n\\nAccording to the DC Municipal Regulations, Title 18, Section 1201.1,\\n\\nEvery person riding a bicycle on a highway shall be subject to all the duties applicable to the drivers of motor vehicles under this title, except as otherwise expressly provided in the chapter, and except for those duties imposed by this title which, by their nature, can have no reasonable application to a bicycle operator.\\n\\nIn addition Section 1201.15 states,', metadata={'source': '<a href=\"https://ddot.dc.gov/sites/default/files/dc/sites/ddot/publication/attachments/DC-Bike-Law-Pocket-Guide-Oct2012.pdf\">Pocket Guide to DC Bike Laws</a>'})]}"
      ]
     },
     "execution_count": 3,
     "metadata": {},
     "output_type": "execute_result"
    }
   ],
   "source": [
    "\n",
    "information_prompt_template = \"\"\"\n",
    "You are a civic AI assistant. You will provide useful information from trusted sources.\n",
    "\n",
    "\"\"\"\n",
    "\n",
    "request = \"Can you ride a bike on sidewalks?\"\n",
    "prompt_query = f'{information_prompt_template}\\nRequest: {request}'\n",
    "\n",
    "response = chain.invoke({\"question\": prompt_query})\n",
    "response"
   ]
  },
  {
   "cell_type": "code",
   "execution_count": 9,
   "metadata": {},
   "outputs": [
    {
     "data": {
      "text/plain": [
       "{'question': '\\nYou are a civic AI assistant. You will provide useful information from trusted sources.\\n\\n\\nRequest: What is the comprehensive plan?',\n",
       " 'answer': \"Sorry, I don't know.\",\n",
       " 'sources': '',\n",
       " 'source_documents': [Document(page_content='District Department of Transportation’s (DDOT) mission is to enhance the quality of life for District residents and visitors by ensuring that people, goods, and information move efficiently and safely, with minimal adverse impacts on residents and the environment. DDOT plans, designs, constructs, and maintains the District’s streets, alleys, sidewalks, bridges, traffic signals, street lights, and bicycle facilities. For more information see www.ddot.dc.gov.\\n\\nMetropolitan Police Department One of the ten largest local police agencies in the United States, the MPDC is the primary law enforcement agency for the District of Columbia. Founded in 1861, the MPDC of today is on the forefront of technological crime fighting advances, from highly developed advances in evidence analysis to state-of- the-art-information technology. These modern techniques are combined with a contemporary community policing philosophy, referred to as Policing for Prevention. Community policing bonds the police and residents in a working partnership designed to organize and mobilize residents, merchants and professionals to improve the quality of life for all who live, work, and visit the Nation’s Capital.', metadata={'source': '<a href=\"https://ddot.dc.gov/sites/default/files/dc/sites/ddot/publication/attachments/DC-Bike-Law-Pocket-Guide-Oct2012.pdf\">Pocket Guide to DC Bike Laws</a>'}),\n",
       "  Document(page_content='n Are buildings required to have bike\\n\\nparking?\\n\\nYes. Title 11, Chapter 21 states that, “Bicycle parking shall be provided for office, retail and service uses… The number of bicycle parking spaces shall be at least equal to 5% of the number of automobile spaces…” Residential building bicycle parking is not currently required but it’s a good idea and may soon be required. This law will likely soon change to increase the number of bike parking spaces to 10% of car parking spaces and require all new residential developing to include bike parking spaces.\\n\\n31\\n\\n32\\n\\nBIKES ON METRORAIL AND METROBUS\\n\\nBicycles are permitted on Metrorail on weekdays except between 7 a.m. to 10 a.m. and 4 p.m. to 7 p.m. During the week there is a limit of two bicycles per car. On weekends, bicycles are permitted on Metrorail all day, as well as most holidays. On weekends bikes are limited to four per car. Bicycles are not permitted on Metrorail on July 4th and other special events or holidays when large crowds are expected to use the system.\\n\\nBikes racks are now available on the front of all Metro buses. For more information on bike access to other local transit systems and to learn how to use the bike racks on Metrobus, visit http://www.waba.org/ resources/transit.php.\\n\\nGUIDELINES:\\n\\nFollow these guidelines when bringing your bike on Metrorail or Metrobus.\\n\\nEnter and exit through the first and last—not the center emergency—doors. In an emergency, place your bicycle on the seats and leave it on the train.\\n\\nOnly regular bicycles are permitted (maximum size 80” long, 48” high and 22” side). No tricycles or training wheels are allowed. Folding bikes are allowed on Metrorail at all times and do not need to covered or in a bag.\\n\\nUse the elevator at all times. Do not take bicycles on escalators. Avoid blocking doorways and aisles. Yield to other passengers.\\n\\nDo not ride bicycles in stations, on platforms or trains. Keep both wheels on the ground and the kickstand up. Maintain control of your bicycle. • If you are under 16 years of age, you must be accompanied by an adult.\\n\\n33\\n\\n34\\n\\nWHAT TO DO IN CASE OF A BIKE CRASH\\n\\nIf you’re hurt in a traffic crash, don’t ride away or shake off what seems like a minor injury—you might find later that it’s worse than you thought. Instead: • Call the police at 911 (or 311 or #77). If needed, get\\n\\nmedical help immediately.\\n\\nGet the following information from every vehicle: driver’s name, address, phone number, driver’s license number, license plate number, make of car, insurance company name and policy number.\\n\\nGet the names and phone numbers of witnesses. Get the name and badge number of the police officer\\n\\nGet the police report number from police on the scene.\\n\\nWrite down how the crash happened while it’s fresh in your memory.\\n\\nKeep (or photograph) any damaged clothes or equipment.\\n\\nAlso, if you’re a victim:\\n\\nDon’t get mad at the scene. Keep a level head so you can ask questions and take notes.\\n\\nIf injured, don’t move unless you’re sure you won’t hurt yourself more.\\n\\nCall WABA at 202-518-0524 if you need further assistance.\\n\\nGET THIS INFO:\\n\\nDRIVER, VEHICLE, INSURANCE:\\n\\nDriver’s Name:\\n\\nDriver’s License #:\\n\\nAddress:\\n\\nPhone:\\n\\nMake of Car:\\n\\nLicense Plate #:\\n\\nInsurance Company:\\n\\nPolicy #:\\n\\nWITNESSES:\\n\\nName:\\n\\nPhone:\\n\\nName:\\n\\nPhone:\\n\\nPOLICE:\\n\\nName:\\n\\nBadge #:\\n\\nPolice Report #:\\n\\n35\\n\\n36\\n\\nADDITIONAL INFORMATION\\n\\nThe mission of the Washington Area Bicyclist Association is to create a healthy, more livable region by promoting bicycling for fun, fitness, and affordable transportation; advocating for better bicycling conditions and transportation choices for a healthier environment, and educating children, adults, and motorists about safe bicycling. Since 1972, WABA has been working tirelessly to make it easier and safer to ride for transportation and recreation. For more information on safe cycling tips, local bike maps and the bike laws of other areas, please visit www.waba.org or call us at 202-518-0524.', metadata={'source': '<a href=\"https://ddot.dc.gov/sites/default/files/dc/sites/ddot/publication/attachments/DC-Bike-Law-Pocket-Guide-Oct2012.pdf\">Pocket Guide to DC Bike Laws</a>'}),\n",
       "  Document(page_content='POCKET GUIDE TO DC BIKE LAWS\\n\\n1\\n\\n2\\n\\nINTRODUCTION\\n\\nThanks for picking up a copy of the Pocket Guide to DC Bike Laws. This guide, which is produced by the Washington Area Bicyclist Association, the District of Columbia Department of Transportation, and the Metropolitan Police Department, is designed to help inform both cyclists and law enforcement officers of the rights and responsibilities of cyclists on DC streets. Unless otherwise noted, all quoted regulations are taken from the District of Columbia Municipal Regulations (DCMR), Title 18 “Vehicles and Traffic”, Chapter 12 “Bicycles, Motorized Bicycles, and Miscellaneous Vehicles”, and Chapter 22 “Moving Violations”. For direct links to the DCMR, as well as for links to the laws of other areas, please visit http://www.waba.org/resources/laws.php.\\n\\n3\\n\\n4\\n\\nTABLE OF CONTENTS\\n\\nTraffic Laws ................................................................... 7\\n\\nDoes a cyclist have to obey traffic laws? ................... 7\\n\\nDoes a cyclist have to ride with traffic? ..................... 8\\n\\nDoes a cyclist always have to ride to the right? ........ 8\\n\\nWho has the right-of-way in a crosswalk? ................. 8\\n\\nIs it legal to ride between lanes? ............................... 9\\n\\nDoes a cyclist have to ride in a bike lane? ................. 9\\n\\nIs it legal to ride on the sidewalk? ........................... 10\\n\\nDo I need to register my bike? .................................. 10\\n\\nCan cars be parked in a bike lane? ........................... 11\\n\\nIs it legal for cyclists to ride two abreast? ................ 11\\n\\nA cyclist has been “doored”. Who’s at fault? ........... 11\\n\\nAre cars allowed in bus/bike lanes? ........................ 12\\n\\nIs it legal to talk on a cell phone while riding? ........ 13\\n\\nCommon Enforcement Errors ......................................15\\n\\nBicycling Infractions ...................................................25\\n\\nSafety Equipment ....................................................... 26\\n\\nWhat are the helmet laws in DC? ............................ 26\\n\\nDoes a bike with a fixed gear need a brake? .......... 26\\n\\nDoes a bike need lights when being ridden at night? .........................................................27\\n\\nDoes a bike need a bell? .............................................2\\n\\nBike Parking & Security ............................................. 28\\n\\nWhat is the best way to lock a bike? ...................... 28\\n\\nWhere can a bike be locked? .................................. 29\\n\\nHow does someone request a bike rack? ............... 30\\n\\nHow does someone request the removal of an abandoned bike? ...................................................... 30\\n\\nHow long can a bike be parked in a public space? ............................................................ 31\\n\\nAre buildings required to have bike parking? ......... 31\\n\\nBikes on Metrorail and Metrobus ............................. 32\\n\\nGuidelines ................................................................. 33\\n\\nWhat To Do in Case of a Bike Crash ......................... 34\\n\\nGet This Info ............................................................. 35\\n\\nAdditional Information............................................... 36\\n\\n5\\n\\n6\\n\\nTRAFFIC LAWS\\n\\nn Does a cyclist have to obey traffic laws?\\n\\nYes, cyclists have to obey traffic laws.\\n\\nAccording to the DC Municipal Regulations, Title 18, Section 1201.1,\\n\\nEvery person riding a bicycle on a highway shall be subject to all the duties applicable to the drivers of motor vehicles under this title, except as otherwise expressly provided in the chapter, and except for those duties imposed by this title which, by their nature, can have no reasonable application to a bicycle operator.\\n\\nIn addition Section 1201.15 states,', metadata={'source': '<a href=\"https://ddot.dc.gov/sites/default/files/dc/sites/ddot/publication/attachments/DC-Bike-Law-Pocket-Guide-Oct2012.pdf\">Pocket Guide to DC Bike Laws</a>'}),\n",
       "  Document(page_content='11\\n\\n12\\n\\nTRAFFIC LAWS\\n\\nn Are cars allowed in bus/bike lanes?\\n\\nAccording to the DCMR Section 2220,\\n\\nThe Director of the District Department of Transportation is authorized to designate any traffic lane on any roadway for the exclusive use of a single class or combination of classes of vehicles during certain hours. During the restricted hours, any vehicle may enter a restricted right curb lane solely for the purposes of taking on or discharging passengers or to make a right turn where a right turn is not otherwise prohibited by any official traffic control device.\\n\\nAccording to Section 2000.4,\\n\\nThe driver of any vehicle shall obey the instructions of any official traffic control device applicable to the vehicle which has been placed in accordance with the provisions of this subtitle, unless otherwise directed by a police officer, subject to the exceptions granted the driver of an authorized emergency vehicle in this chapter.\\n\\nn Is it legal to talk on a cell phone\\n\\nwhile riding?\\n\\nWhile certainly not safe, it is legal to talk on a cell phone while riding. According to Title 50, Section 1731.04,\\n\\nNo person shall use a mobile telephone or other electronic device while operating a moving motor vehicle in the District of Columbia unless the telephone or device is equipped with a hands-free accessory.\\n\\nNote that the code refers to motor vehicles, which are defined as “all vehicles propelled by internal- combustion engines, electricity, or steam.” The cell phone ban does not apply when dialing police or emergency services, nor does it apply to police or emergency personnel if acting within the scope of their official duties.\\n\\n13\\n\\n14\\n\\nCOMMON ENFORCEMENT ERRORS\\n\\n1. Dooring INCIDENT: Bicyclist struck by motorist opening door into traffic. MPD RESPONSE: Officer cites bicyclist for riding two abreast. (There was no other bicyclist involved).\\n\\nWHY IT WAS WRONG: Title 18 (2214.4) prohibits opening a car door into traffic unless it can be done safely. The officer should have cited the driver for violating 2214.4.\\n\\nTitle 18, (1201.2) calls for bicyclists to ride as far right as practicable.\\n\\n15\\n\\n16\\n\\nCOMMON ENFORCEMENT ERRORS\\n\\n2. Traffic Circle INCIDENT: Bicyclist in traffic circle is struck by car entering the circle. MPD RESPONSE: Officer tickets bicyclist for failure to yield.\\n\\nWHY IT WAS WRONG: Motorist failed to yield right-of-way to traffic already within the circle (Title 18, 2208.7).\\n\\n3. Left-turning Vehicle INCIDENT: Bicyclist riding straight (under the posted speed) is hit by oncoming vehicle turning left across her path. MPD RESPONSE: Officer cites bicyclist for failure to control speed.\\n\\nWHY IT WAS WRONG: The turning driver failed to yield the right-of- way to the cyclist who was going straight. (Title 18, 1200.3). Turning drivers must yield to vehicles approaching from the opposite direction (Title 18, 2207.4 and 2208.2).\\n\\n17\\n\\n18\\n\\nCOMMON ENFORCEMENT ERRORS\\n\\n4. Passing Too Closely INCIDENT: Bicyclist riding on the right side of the road is struck by overtaking vehicle in the same lane. MPD RESPONSE: Officer cites bicyclist.\\n\\nWHY IT WAS WRONG: Title 18 (2202.2) requires an overtaking vehicle to pass to the left at a safe distance.\\n\\n5. Right-turning Vehicle INCIDENT: Bicyclist going straight in the right lane is hit by car from same lane while the car is making a right turn. MPD RESPONSE: Officer cites bicyclist.\\n\\nWHY IT WAS WRONG: Title 18 (2203.3) requires that both the approach for a right turn and the turn itself shall be made as close as practicable to the right-hand curb or edge of the roadway.\\n\\n19\\n\\n20\\n\\nCOMMON ENFORCEMENT ERRORS\\n\\n6. Sidewalk Riding INCIDENT: Bicyclist stopped for riding on the sidewalk outside of the Central Business District. MPD RESPONSE: Officer cites bicyclist for riding on the sidewalk.', metadata={'source': '<a href=\"https://ddot.dc.gov/sites/default/files/dc/sites/ddot/publication/attachments/DC-Bike-Law-Pocket-Guide-Oct2012.pdf\">Pocket Guide to DC Bike Laws</a>'})]}"
      ]
     },
     "execution_count": 9,
     "metadata": {},
     "output_type": "execute_result"
    }
   ],
   "source": [
    "request = \"What is the comprehensive plan?\"\n",
    "prompt_query = f'{information_prompt_template}\\nRequest: {request}'\n",
    "\n",
    "response = chain.invoke({\"question\": prompt_query})\n",
    "\n",
    "response"
   ]
  }
 ],
 "metadata": {
  "kernelspec": {
   "display_name": "Python 3",
   "language": "python",
   "name": "python3"
  },
  "language_info": {
   "codemirror_mode": {
    "name": "ipython",
    "version": 3
   },
   "file_extension": ".py",
   "mimetype": "text/x-python",
   "name": "python",
   "nbconvert_exporter": "python",
   "pygments_lexer": "ipython3",
   "version": "3.11.4"
  }
 },
 "nbformat": 4,
 "nbformat_minor": 2
}
