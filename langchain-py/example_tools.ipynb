{
 "cells": [
  {
   "cell_type": "code",
   "execution_count": 1,
   "metadata": {},
   "outputs": [],
   "source": [
    "import os\n",
    "config = '.env.dev'\n",
    "from dotenv import load_dotenv\n",
    "load_dotenv(config)\n",
    "from langchain_openai import AzureChatOpenAI\n",
    "\n",
    "llm = AzureChatOpenAI(\n",
    "    temperature=0.9,\n",
    "    model_name=os.environ[\"OPENAI_MODEL_NAME\"], #'text-davinci-003'\n",
    "    openai_api_version=os.environ[\"OPENAI_API_VERSION\"],\n",
    "    azure_endpoint=os.environ[\"AZURE_OPENAI_ENDPOINT\"],\n",
    "    openai_api_key=os.environ[\"AZURE_OPENAI_API_KEY\"],\n",
    "    deployment_name=os.environ[\"OPENAI_DEPLOYMENT_NAME\"]\n",
    ")\n"
   ]
  },
  {
   "cell_type": "code",
   "execution_count": 2,
   "metadata": {},
   "outputs": [],
   "source": [
    "system_prompt_template = \"\"\"You are chatting with an AI assistant. The assistant is here to help you with any questions you have.\n",
    "\n",
    "- Assume every request is about the location: {location}\n",
    "\n",
    "Context:\n",
    "{context}\n",
    "\n",
    "History: \n",
    "{chat_history}\n",
    "\n",
    "User Request: {request}\n",
    "\n",
    "\"\"\""
   ]
  },
  {
   "cell_type": "code",
   "execution_count": 3,
   "metadata": {},
   "outputs": [
    {
     "name": "stderr",
     "output_type": "stream",
     "text": [
      "/Users/andr7059/.pyenv/versions/3.11.10/lib/python3.11/site-packages/dask/dataframe/__init__.py:42: FutureWarning: \n",
      "Dask dataframe query planning is disabled because dask-expr is not installed.\n",
      "\n",
      "You can install it with `pip install dask[dataframe]` or `conda install dask`.\n",
      "This will raise in a future version.\n",
      "\n",
      "  warnings.warn(msg, FutureWarning)\n"
     ]
    }
   ],
   "source": [
    "# Now let's use some tools to add some functionality to the agent\n",
    "\n",
    "from langchain.agents import create_openai_tools_agent, AgentExecutor\n",
    "from langchain.prompts import ChatPromptTemplate, SystemMessagePromptTemplate, MessagesPlaceholder\n",
    "from tools.geocode import geocodeLocation\n",
    "from langchain.tools import StructuredTool\n",
    "system_prompt_template = \"\"\"You are chatting with an AI assistant. The assistant is here to help you with any questions you have.\n",
    "\n",
    "- Assume every request is about the location: {location}\n",
    "\n",
    "Context:\n",
    "{context}\n",
    "\n",
    "History: \n",
    "{chat_history}\n",
    "\n",
    "User Request: {request}\n",
    "\n",
    "\"\"\"\n",
    "prompt = ChatPromptTemplate.from_messages(\n",
    "    [\n",
    "        SystemMessagePromptTemplate.from_template(system_prompt_template),\n",
    "        MessagesPlaceholder(\"chat_history\", optional=True),\n",
    "        (\"human\", \"{request}\"),\n",
    "        MessagesPlaceholder(\"agent_scratchpad\"),\n",
    "    ]\n",
    ")\n",
    "\n",
    "tools = [\n",
    "    StructuredTool.from_function(geocodeLocation)\n",
    "]\n",
    "\n",
    "# https://smith.langchain.com/hub/hwchase17/openai-functions-agent\n",
    "agent = create_openai_tools_agent(llm, tools, prompt)\n",
    "\n",
    "data_agent = AgentExecutor(\n",
    "    agent=agent, \n",
    "    tools=tools, \n",
    "    verbose=True,\n",
    "    callbacks=[]\n",
    ")\n"
   ]
  },
  {
   "cell_type": "code",
   "execution_count": 4,
   "metadata": {},
   "outputs": [
    {
     "name": "stdout",
     "output_type": "stream",
     "text": [
      "\n",
      "\n",
      "\u001b[1m> Entering new AgentExecutor chain...\u001b[0m\n",
      "\u001b[32;1m\u001b[1;3m\n",
      "Invoking: `geocodeLocation` with `{'address': 'City Hall, Seattle, WA'}`\n",
      "\n",
      "\n",
      "\u001b[0m\u001b[36;1m\u001b[1;3m(-122.279024, 47.754184)\u001b[0m\u001b[32;1m\u001b[1;3mThe City Hall in Seattle, WA is located at the following coordinates: \n",
      "- Longitude: -122.279024\n",
      "- Latitude: 47.754184\u001b[0m\n",
      "\n",
      "\u001b[1m> Finished chain.\u001b[0m\n"
     ]
    },
    {
     "data": {
      "text/plain": [
       "{'request': 'where is city hall?',\n",
       " 'context': '',\n",
       " 'location': 'Seattle, WA',\n",
       " 'chat_history': [],\n",
       " 'output': 'The City Hall in Seattle, WA is located at the following coordinates: \\n- Longitude: -122.279024\\n- Latitude: 47.754184'}"
      ]
     },
     "execution_count": 4,
     "metadata": {},
     "output_type": "execute_result"
    }
   ],
   "source": [
    "data_agent.invoke({\n",
    "    \"request\": \"where is city hall?\", \n",
    "    \"context\": \"\",\n",
    "    \"location\": \"Seattle, WA\",\n",
    "    \"chat_history\": []\n",
    "})"
   ]
  },
  {
   "cell_type": "code",
   "execution_count": 5,
   "metadata": {},
   "outputs": [
    {
     "name": "stdout",
     "output_type": "stream",
     "text": [
      "\n",
      "\n",
      "\u001b[1m> Entering new AgentExecutor chain...\u001b[0m\n",
      "\u001b[32;1m\u001b[1;3m\n",
      "Invoking: `geocodeLocation` with `{'address': 'City Hall, Seattle, WA'}`\n",
      "\n",
      "\n",
      "\u001b[0m\u001b[36;1m\u001b[1;3m(-122.279024, 47.754184)\u001b[0m\u001b[32;1m\u001b[1;3m\n",
      "Invoking: `geocodeLocation` with `{'address': 'City Hall, Seattle, WA'}`\n",
      "\n",
      "\n",
      "\u001b[0m\u001b[36;1m\u001b[1;3m(-122.279024, 47.754184)\u001b[0m\u001b[32;1m\u001b[1;3m```json\n",
      "{\n",
      "  \"city_hall_coordinates\": {\n",
      "    \"longitude\": -122.279024,\n",
      "    \"latitude\": 47.754184\n",
      "  }\n",
      "}\n",
      "```\u001b[0m\n",
      "\n",
      "\u001b[1m> Finished chain.\u001b[0m\n"
     ]
    },
    {
     "data": {
      "text/plain": [
       "{'request': 'where is city hall?',\n",
       " 'context': 'Provide your response in JSON',\n",
       " 'location': 'Seattle, WA',\n",
       " 'chat_history': [],\n",
       " 'output': '```json\\n{\\n  \"city_hall_coordinates\": {\\n    \"longitude\": -122.279024,\\n    \"latitude\": 47.754184\\n  }\\n}\\n```'}"
      ]
     },
     "execution_count": 5,
     "metadata": {},
     "output_type": "execute_result"
    }
   ],
   "source": [
    "data_agent.invoke({\n",
    "    \"request\": \"where is city hall?\", \n",
    "    \"context\": \"Provide your response in JSON\",\n",
    "    \"location\": \"Seattle, WA\",\n",
    "    \"chat_history\": []\n",
    "})"
   ]
  },
  {
   "cell_type": "code",
   "execution_count": 6,
   "metadata": {},
   "outputs": [
    {
     "name": "stdout",
     "output_type": "stream",
     "text": [
      "\n",
      "\n",
      "\u001b[1m> Entering new AgentExecutor chain...\u001b[0m\n",
      "\u001b[32;1m\u001b[1;3m\n",
      "Invoking: `geocodeLocation` with `{'address': 'City Hall, Seattle, WA'}`\n",
      "\n",
      "\n",
      "\u001b[0m\u001b[36;1m\u001b[1;3m(-122.279024, 47.754184)\u001b[0m\u001b[32;1m\u001b[1;3mThe coordinates for City Hall in Seattle, WA are:\n",
      "- Longitude: -122.279024\n",
      "- Latitude: 47.754184\n",
      "\n",
      "To display City Hall on an ArcGIS map using JavaScript, you can use the following code:\n",
      "\n",
      "```javascript\n",
      "require([\n",
      "  \"esri/Map\",\n",
      "  \"esri/views/MapView\",\n",
      "  \"esri/geometry/Point\",\n",
      "  \"esri/symbols/SimpleMarkerSymbol\",\n",
      "  \"esri/Graphic\",\n",
      "  \"esri/geometry/SpatialReference\"\n",
      "], function(Map, MapView, Point, SimpleMarkerSymbol, Graphic, SpatialReference) {\n",
      "\n",
      "  var map = new Map({\n",
      "    basemap: \"streets-navigation-vector\"\n",
      "  });\n",
      "\n",
      "  var view = new MapView({\n",
      "    container: \"viewDiv\",\n",
      "    map: map,\n",
      "    center: [47.754184, -122.279024],\n",
      "    zoom: 15\n",
      "  });\n",
      "\n",
      "  var point = new Point({\n",
      "    longitude: -122.279024,\n",
      "    latitude: 47.754184\n",
      "  });\n",
      "\n",
      "  var markerSymbol = new SimpleMarkerSymbol({\n",
      "    color: [226, 119, 40],\n",
      "    outline: {\n",
      "      color: [255, 255, 255],\n",
      "      width: 2\n",
      "    }\n",
      "  });\n",
      "\n",
      "  var pointGraphic = new Graphic({\n",
      "    geometry: point,\n",
      "    symbol: markerSymbol\n",
      "  });\n",
      "\n",
      "  view.graphics.add(pointGraphic);\n",
      "\n",
      "});\n",
      "```\u001b[0m\n",
      "\n",
      "\u001b[1m> Finished chain.\u001b[0m\n"
     ]
    },
    {
     "data": {
      "text/plain": [
       "{'request': 'where is city hall?',\n",
       " 'context': 'Provide javascript for displaying this location using an ArcGIS Map',\n",
       " 'location': 'Seattle, WA',\n",
       " 'chat_history': [],\n",
       " 'output': 'The coordinates for City Hall in Seattle, WA are:\\n- Longitude: -122.279024\\n- Latitude: 47.754184\\n\\nTo display City Hall on an ArcGIS map using JavaScript, you can use the following code:\\n\\n```javascript\\nrequire([\\n  \"esri/Map\",\\n  \"esri/views/MapView\",\\n  \"esri/geometry/Point\",\\n  \"esri/symbols/SimpleMarkerSymbol\",\\n  \"esri/Graphic\",\\n  \"esri/geometry/SpatialReference\"\\n], function(Map, MapView, Point, SimpleMarkerSymbol, Graphic, SpatialReference) {\\n\\n  var map = new Map({\\n    basemap: \"streets-navigation-vector\"\\n  });\\n\\n  var view = new MapView({\\n    container: \"viewDiv\",\\n    map: map,\\n    center: [47.754184, -122.279024],\\n    zoom: 15\\n  });\\n\\n  var point = new Point({\\n    longitude: -122.279024,\\n    latitude: 47.754184\\n  });\\n\\n  var markerSymbol = new SimpleMarkerSymbol({\\n    color: [226, 119, 40],\\n    outline: {\\n      color: [255, 255, 255],\\n      width: 2\\n    }\\n  });\\n\\n  var pointGraphic = new Graphic({\\n    geometry: point,\\n    symbol: markerSymbol\\n  });\\n\\n  view.graphics.add(pointGraphic);\\n\\n});\\n```'}"
      ]
     },
     "execution_count": 6,
     "metadata": {},
     "output_type": "execute_result"
    }
   ],
   "source": [
    "data_agent.invoke({\n",
    "    \"request\": \"where is city hall?\", \n",
    "    \"context\": \"Provide javascript for displaying this location using an ArcGIS Map\", #Provide your response in JSON\n",
    "    \"location\": \"Seattle, WA\",\n",
    "    \"chat_history\": []\n",
    "})"
   ]
  }
 ],
 "metadata": {
  "kernelspec": {
   "display_name": "Python 3",
   "language": "python",
   "name": "python3"
  },
  "language_info": {
   "codemirror_mode": {
    "name": "ipython",
    "version": 3
   },
   "file_extension": ".py",
   "mimetype": "text/x-python",
   "name": "python",
   "nbconvert_exporter": "python",
   "pygments_lexer": "ipython3",
   "version": "3.11.10"
  }
 },
 "nbformat": 4,
 "nbformat_minor": 2
}
