{
 "cells": [
  {
   "cell_type": "code",
   "execution_count": 1,
   "metadata": {},
   "outputs": [],
   "source": [
    "# Basics of Langchain \n",
    "\n",
    "config = '.env.dev'\n",
    "from dotenv import load_dotenv\n",
    "load_dotenv(config)\n",
    "import os\n",
    "from langchain_openai import AzureChatOpenAI\n",
    "from langchain_core.output_parsers import StrOutputParser\n",
    "from langchain_core.runnables import RunnablePassthrough\n",
    "from langchain.prompts import ChatPromptTemplate\n",
    "\n",
    "\n",
    "system_prompt_template = \"\"\"You are chatting with an AI assistant. The assistant is here to help you with any questions you have.\n",
    "\n",
    "- Assume every request is about the location: {location}\n",
    "\n",
    "Context:\n",
    "{context}\n",
    "\n",
    "History: \n",
    "{chat_history}\n",
    "\n",
    "User Request: {request}\n",
    "\n",
    "\"\"\"\n",
    "\n",
    "llm = AzureChatOpenAI(\n",
    "    temperature=0.9,\n",
    "    model_name=os.environ[\"OPENAI_MODEL_NAME\"], #'text-davinci-003'\n",
    "    openai_api_version=os.environ[\"OPENAI_API_VERSION\"],\n",
    "    azure_endpoint=os.environ[\"AZURE_OPENAI_ENDPOINT\"],\n",
    "    openai_api_key=os.environ[\"AZURE_OPENAI_API_KEY\"],\n",
    "    deployment_name=os.environ[\"OPENAI_DEPLOYMENT_NAME\"]\n",
    ")\n",
    "\n",
    "prompt = ChatPromptTemplate.from_template(system_prompt_template)\n",
    "\n",
    "chat_agent = (\n",
    "    {\n",
    "        \"request\": RunnablePassthrough(),\n",
    "        \"context\": RunnablePassthrough(),\n",
    "        \"chat_history\": RunnablePassthrough(),\n",
    "        \"location\": RunnablePassthrough()\n",
    "    }\n",
    "    | prompt\n",
    "    | llm\n",
    "    | StrOutputParser()\n",
    ")\n"
   ]
  },
  {
   "cell_type": "code",
   "execution_count": 2,
   "metadata": {},
   "outputs": [
    {
     "data": {
      "text/plain": [
       "'You, my gracious orator, currently find yourself in the splendid city of Seattle, Washington.'"
      ]
     },
     "execution_count": 2,
     "metadata": {},
     "output_type": "execute_result"
    }
   ],
   "source": [
    "chat_agent.invoke({\n",
    "    \"request\": \"What city am I in?\", \n",
    "    \"context\": \"You are an elegant story teller who speaks in iambic pentameter\",\n",
    "    \"location\": \"Seattle, WA\",\n",
    "    \"chat_history\": []\n",
    "})"
   ]
  }
 ],
 "metadata": {
  "kernelspec": {
   "display_name": "Python 3",
   "language": "python",
   "name": "python3"
  },
  "language_info": {
   "codemirror_mode": {
    "name": "ipython",
    "version": 3
   },
   "file_extension": ".py",
   "mimetype": "text/x-python",
   "name": "python",
   "nbconvert_exporter": "python",
   "pygments_lexer": "ipython3",
   "version": "3.11.4"
  }
 },
 "nbformat": 4,
 "nbformat_minor": 2
}
