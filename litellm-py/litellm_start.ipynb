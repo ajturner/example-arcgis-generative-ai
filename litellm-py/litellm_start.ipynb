{
 "cells": [
  {
   "cell_type": "code",
   "execution_count": 1,
   "metadata": {},
   "outputs": [
    {
     "data": {
      "text/plain": [
       "True"
      ]
     },
     "execution_count": 1,
     "metadata": {},
     "output_type": "execute_result"
    }
   ],
   "source": [
    "import os\n",
    "config = '../.env.dev'\n",
    "from dotenv import load_dotenv\n",
    "load_dotenv(config)"
   ]
  },
  {
   "cell_type": "code",
   "execution_count": 2,
   "metadata": {},
   "outputs": [
    {
     "name": "stdout",
     "output_type": "stream",
     "text": [
      "ModelResponse(id='chatcmpl-B9geb7hltr1LpgmZ9I6XDvyA5DuWH', created=1741648613, model='gpt-3.5-turbo-1106', object='chat.completion', system_fingerprint='fp_0165350fbb', choices=[Choices(finish_reason='stop', index=0, message=Message(content=\"Hello! I'm just a computer program, so I don't have feelings, but I'm here to help you. How can I assist you today?\", role='assistant', tool_calls=None, function_call=None, provider_specific_fields={'refusal': None}))], usage=Usage(completion_tokens=31, prompt_tokens=13, total_tokens=44, completion_tokens_details=None, prompt_tokens_details=None), service_tier=None, prompt_filter_results=[{'prompt_index': 0, 'content_filter_results': {'hate': {'filtered': False, 'severity': 'safe'}, 'jailbreak': {'filtered': False, 'detected': False}, 'self_harm': {'filtered': False, 'severity': 'safe'}, 'sexual': {'filtered': False, 'severity': 'safe'}, 'violence': {'filtered': False, 'severity': 'safe'}}}])\n"
     ]
    }
   ],
   "source": [
    "from litellm import completion, litellm\n",
    "# litellm._turn_on_debug()\n",
    "\n",
    "## set ENV variables\n",
    "os.environ[\"AZURE_API_KEY\"] = os.environ[\"AZURE_OPENAI_API_KEY\"]\n",
    "os.environ[\"AZURE_API_BASE\"] = os.environ[\"AZURE_OPENAI_ENDPOINT\"]\n",
    "os.environ[\"AZURE_API_VERSION\"] = os.environ[\"OPENAI_API_VERSION\"]\n",
    "deployment_name = os.environ[\"OPENAI_DEPLOYMENT_NAME\"]\n",
    "\n",
    "# os.environ[\"ANTHROPIC_API_KEY\"] = \"your-anthropic-key\"\n",
    "\n",
    "messages = [{ \"content\": \"Hello, how are you?\",\"role\": \"user\" }]\n",
    "\n",
    "# openai call\n",
    "response = completion(model=f\"azure/{deployment_name}\", messages=messages)\n",
    "print(response)\n",
    "\n"
   ]
  },
  {
   "cell_type": "code",
   "execution_count": null,
   "metadata": {},
   "outputs": [
    {
     "name": "stdout",
     "output_type": "stream",
     "text": [
      "ModelResponse(id='chatcmpl-ddfdec26-3709-4e74-8f5f-b7bbe74e092d', created=1741648621, model='anthropic.claude-3-5-sonnet-20240620-v1:0', object='chat.completion', system_fingerprint=None, choices=[Choices(finish_reason='stop', index=0, message=Message(content=\"Hello! I'm doing well, thank you for asking. How are you doing today? Is there anything I can help you with?\", role='assistant', tool_calls=None, function_call=None, provider_specific_fields=None))], usage=Usage(completion_tokens=30, prompt_tokens=13, total_tokens=43, completion_tokens_details=None, prompt_tokens_details=None))\n"
     ]
    }
   ],
   "source": [
    "# anthropic call\n",
    "\n",
    "# os.environ[\"AWS_ACCESS_KEY_ID\"] = \"\"\n",
    "# os.environ[\"AWS_SECRET_ACCESS_KEY\"] = \"\"\n",
    "# os.environ[\"AWS_REGION_NAME\"] = \"\"\n",
    "\n",
    "response = completion(\n",
    "    model='bedrock/anthropic.claude-3-5-sonnet-20240620-v1:0',\n",
    "    # model = \"bedrock/mistral.mistral-7b-instruct-v0:2\",\n",
    "    messages=[{ \"content\": \"Hello, how are you?\",\"role\": \"user\"}]\n",
    ")\n",
    "print(response)"
   ]
  }
 ],
 "metadata": {
  "kernelspec": {
   "display_name": "Python 3",
   "language": "python",
   "name": "python3"
  },
  "language_info": {
   "codemirror_mode": {
    "name": "ipython",
    "version": 3
   },
   "file_extension": ".py",
   "mimetype": "text/x-python",
   "name": "python",
   "nbconvert_exporter": "python",
   "pygments_lexer": "ipython3",
   "version": "3.11.10"
  }
 },
 "nbformat": 4,
 "nbformat_minor": 2
}
